{
 "cells": [
  {
   "cell_type": "code",
   "execution_count": 1,
   "metadata": {},
   "outputs": [],
   "source": [
    "import pandas as pd\n",
    "import numpy as np\n",
    "import json\n",
    "import time\n",
    "import datetime\n",
    "import glob"
   ]
  },
  {
   "cell_type": "code",
   "execution_count": 2,
   "metadata": {},
   "outputs": [],
   "source": [
    "\n",
    "from tensorflow import keras\n",
    "from tensorflow.keras import layers\n",
    "from tensorflow.keras.preprocessing.sequence import pad_sequences\n",
    "from tensorflow.keras.preprocessing.text import Tokenizer\n"
   ]
  },
  {
   "cell_type": "code",
   "execution_count": 3,
   "metadata": {},
   "outputs": [],
   "source": [
    "# GLOBAL PARAMETERS\n",
    "\n",
    "sus_thresh = 0.5 # malicious query probability threshold\n",
    "max_seq_len = 256 # truncate to 256 symbols\n",
    "max_per_source = 5000 # Training data limit per source\n",
    "synth_l = 15000 # Synth sample limit\n",
    "\n",
    "file_path = '/sus_query/incoming'\n"
   ]
  },
  {
   "cell_type": "code",
   "execution_count": 4,
   "metadata": {},
   "outputs": [],
   "source": [
    "def timestamp_string():\n",
    "    return '['+str(datetime.datetime.now().strftime(\"%d/%m/%Y %H:%M:%S\"))+']'"
   ]
  },
  {
   "cell_type": "code",
   "execution_count": 5,
   "metadata": {},
   "outputs": [],
   "source": [
    "def only_ascii(s):\n",
    "    try:\n",
    "        s.encode('ascii')\n",
    "        return 1\n",
    "    except:\n",
    "        return 0"
   ]
  },
  {
   "cell_type": "code",
   "execution_count": 6,
   "metadata": {},
   "outputs": [],
   "source": [
    "# Strip non alphanumeric characters.\n",
    "\n",
    "def preprocess(s):\n",
    "    import re\n",
    "    s = s.replace('|','')\n",
    "    s = re.sub(r'\\W+', '', s)\n",
    "    return s\n",
    "    "
   ]
  },
  {
   "cell_type": "code",
   "execution_count": 7,
   "metadata": {},
   "outputs": [],
   "source": [
    "# Crop a random substring from a string\n",
    "\n",
    "\n",
    "def random_substring(s, min_l = 16, max_l = 128):\n",
    "    l = len(s)\n",
    "    sub_l = max(np.random.randint(len(s)), min_l)\n",
    "    if sub_l > max_l:\n",
    "        subl_l = max_l\n",
    "    if l<=min_l:\n",
    "        return s\n",
    "    start_ = np.random.randint(0, l - sub_l)\n",
    "    return  s[start_:start_+sub_l]"
   ]
  },
  {
   "cell_type": "code",
   "execution_count": 8,
   "metadata": {},
   "outputs": [],
   "source": [
    "df=pd.read_csv('DNS_training_CS.csv')\n",
    "df['text'] = df['text'].transform(lambda x: x[0:min(256, len(x))])"
   ]
  },
  {
   "cell_type": "code",
   "execution_count": 9,
   "metadata": {},
   "outputs": [],
   "source": [
    "df = df[['label','text','source']]"
   ]
  },
  {
   "cell_type": "code",
   "execution_count": 11,
   "metadata": {},
   "outputs": [
    {
     "data": {
      "text/html": [
       "<div>\n",
       "<style scoped>\n",
       "    .dataframe tbody tr th:only-of-type {\n",
       "        vertical-align: middle;\n",
       "    }\n",
       "\n",
       "    .dataframe tbody tr th {\n",
       "        vertical-align: top;\n",
       "    }\n",
       "\n",
       "    .dataframe thead th {\n",
       "        text-align: right;\n",
       "    }\n",
       "</style>\n",
       "<table border=\"1\" class=\"dataframe\">\n",
       "  <thead>\n",
       "    <tr style=\"text-align: right;\">\n",
       "      <th></th>\n",
       "      <th>label</th>\n",
       "      <th>text</th>\n",
       "      <th>source</th>\n",
       "    </tr>\n",
       "  </thead>\n",
       "  <tbody>\n",
       "    <tr>\n",
       "      <th>1344</th>\n",
       "      <td>0.0</td>\n",
       "      <td>Enhancements to PIT The time requested must no...</td>\n",
       "      <td>eng_sentences</td>\n",
       "    </tr>\n",
       "    <tr>\n",
       "      <th>31689</th>\n",
       "      <td>0.0</td>\n",
       "      <td>Please also tell us about errors and omissions.</td>\n",
       "      <td>eng_sentences</td>\n",
       "    </tr>\n",
       "    <tr>\n",
       "      <th>7816</th>\n",
       "      <td>1.0</td>\n",
       "      <td>725rllfgchqmdjwc7cegmz/3tcykyxon1eisseq7ull+kp...</td>\n",
       "      <td>dns2ctp</td>\n",
       "    </tr>\n",
       "    <tr>\n",
       "      <th>14373</th>\n",
       "      <td>0.0</td>\n",
       "      <td>Earth System Science is more than just a close...</td>\n",
       "      <td>eng_sentences</td>\n",
       "    </tr>\n",
       "    <tr>\n",
       "      <th>57420</th>\n",
       "      <td>1.0</td>\n",
       "      <td>api.3536b63166.3d2da7be.beacon.pacattack.xyz</td>\n",
       "      <td>cobalt_strike</td>\n",
       "    </tr>\n",
       "    <tr>\n",
       "      <th>30644</th>\n",
       "      <td>0.0</td>\n",
       "      <td>ITALIAN The course in Italian can be adapted t...</td>\n",
       "      <td>eng_sentences</td>\n",
       "    </tr>\n",
       "    <tr>\n",
       "      <th>970</th>\n",
       "      <td>0.0</td>\n",
       "      <td>After a further year of freelance work as a cl...</td>\n",
       "      <td>eng_sentences</td>\n",
       "    </tr>\n",
       "    <tr>\n",
       "      <th>2060</th>\n",
       "      <td>1.0</td>\n",
       "      <td>zvuf6wyaba.</td>\n",
       "      <td>dns2ctp</td>\n",
       "    </tr>\n",
       "    <tr>\n",
       "      <th>2811</th>\n",
       "      <td>1.0</td>\n",
       "      <td>726amjqwba.</td>\n",
       "      <td>dns2ctp</td>\n",
       "    </tr>\n",
       "    <tr>\n",
       "      <th>50913</th>\n",
       "      <td>1.0</td>\n",
       "      <td>0706f7274202d20576f726</td>\n",
       "      <td>hex-datagen</td>\n",
       "    </tr>\n",
       "  </tbody>\n",
       "</table>\n",
       "</div>"
      ],
      "text/plain": [
       "       label                                               text         source\n",
       "1344     0.0  Enhancements to PIT The time requested must no...  eng_sentences\n",
       "31689    0.0    Please also tell us about errors and omissions.  eng_sentences\n",
       "7816     1.0  725rllfgchqmdjwc7cegmz/3tcykyxon1eisseq7ull+kp...        dns2ctp\n",
       "14373    0.0  Earth System Science is more than just a close...  eng_sentences\n",
       "57420    1.0       api.3536b63166.3d2da7be.beacon.pacattack.xyz  cobalt_strike\n",
       "30644    0.0  ITALIAN The course in Italian can be adapted t...  eng_sentences\n",
       "970      0.0  After a further year of freelance work as a cl...  eng_sentences\n",
       "2060     1.0                                        zvuf6wyaba.        dns2ctp\n",
       "2811     1.0                                        726amjqwba.        dns2ctp\n",
       "50913    1.0                             0706f7274202d20576f726    hex-datagen"
      ]
     },
     "execution_count": 11,
     "metadata": {},
     "output_type": "execute_result"
    }
   ],
   "source": [
    "df.sample(10)"
   ]
  },
  {
   "cell_type": "code",
   "execution_count": 12,
   "metadata": {},
   "outputs": [
    {
     "data": {
      "text/plain": [
       "eng_sentences     26006\n",
       "dns2ctp           19899\n",
       "cobalt_strike      7238\n",
       "hex-datagen        2159\n",
       "base64-datagen     2082\n",
       "addr_arpa          1117\n",
       "manual              750\n",
       "Name: source, dtype: int64"
      ]
     },
     "execution_count": 12,
     "metadata": {},
     "output_type": "execute_result"
    }
   ],
   "source": [
    "df['source'].value_counts()"
   ]
  },
  {
   "cell_type": "code",
   "execution_count": 13,
   "metadata": {},
   "outputs": [
    {
     "name": "stdout",
     "output_type": "stream",
     "text": [
      "[16/02/2024 19:56:47]Synthesizing Training Data.\n",
      "[16/02/2024 19:56:48]Done.\n"
     ]
    }
   ],
   "source": [
    "# Synthesize more training data by concatenating substrings from other samples.\n",
    "\n",
    "print(timestamp_string()+'Synthesizing Training Data.')\n",
    "\n",
    "l = len(df)\n",
    "synth_l = 15000\n",
    "\n",
    "labels = []\n",
    "strings = []\n",
    "\n",
    "# choose two random strings and concatenate them, if at least one is malicious, the result is malicious\n",
    "\n",
    "for i in range(synth_l):\n",
    "    p1 = np.random.randint(l)\n",
    "    p2 = np.random.randint(l)\n",
    "    label_ = int(bool(df.iat[p1, 0] + df.iat[p1, 0]))\n",
    "    string_ = random_substring(df.iat[p1, 1]) + random_substring(df.iat[p2, 1])\n",
    "    labels.append(label_)\n",
    "    strings.append(string_)\n",
    "    \n",
    "synth_data = pd.DataFrame(zip(labels, strings), columns = ['label','text'])\n",
    "synth_data['source'] = 'synth'\n",
    "print(timestamp_string()+'Done.')"
   ]
  },
  {
   "cell_type": "code",
   "execution_count": 21,
   "metadata": {},
   "outputs": [],
   "source": [
    "df = pd.concat([df, synth_data])"
   ]
  },
  {
   "cell_type": "code",
   "execution_count": 22,
   "metadata": {},
   "outputs": [],
   "source": [
    "# Select a subset of samples to work with. Specify a maximum number of samples per sample+source.\n",
    "\n",
    "df_list = []\n",
    "\n",
    "\n",
    "for i in df['source'].unique():\n",
    "    df_tmp = df[df['source'] == i].copy(deep=True)\n",
    "    df_tmp = df_tmp.sample(min(max_per_source, len(df_tmp)))\n",
    "    df_list.append(df_tmp)\n",
    "    \n",
    "    \n",
    "df = pd.concat(df_list)"
   ]
  },
  {
   "cell_type": "code",
   "execution_count": null,
   "metadata": {},
   "outputs": [],
   "source": [
    "# Bring false positives from the annotation table.\n",
    "# This step can be skipped, it is used for tuning the model when more data becomes available\n",
    "\n",
    "print(timestamp_string()+'Loading false positive samples.')\n",
    "\n",
    "false_positives = pd.read_csv('false_positives.csv')\n",
    "\n",
    "\n",
    "false_positives['source'] = 'false_positives'\n",
    "false_positives['label'] = 0"
   ]
  },
  {
   "cell_type": "code",
   "execution_count": 17,
   "metadata": {},
   "outputs": [],
   "source": [
    "false_positive=pd.DataFrame()"
   ]
  },
  {
   "cell_type": "code",
   "execution_count": null,
   "metadata": {},
   "outputs": [],
   "source": [
    "# skip this block if false positives frame is empty\n",
    "\n",
    "df = pd.concat([df, false_positives[['label','text','source']]])"
   ]
  },
  {
   "cell_type": "code",
   "execution_count": 24,
   "metadata": {},
   "outputs": [],
   "source": [
    "df['label'] = df['label'].transform(lambda x: int(x))"
   ]
  },
  {
   "cell_type": "code",
   "execution_count": 25,
   "metadata": {},
   "outputs": [
    {
     "data": {
      "text/plain": [
       "eng_sentences     5000\n",
       "cobalt_strike     5000\n",
       "dns2ctp           5000\n",
       "synth             5000\n",
       "hex-datagen       2159\n",
       "base64-datagen    2082\n",
       "addr_arpa         1117\n",
       "manual             750\n",
       "Name: source, dtype: int64"
      ]
     },
     "execution_count": 25,
     "metadata": {},
     "output_type": "execute_result"
    }
   ],
   "source": [
    "df['source'].value_counts()"
   ]
  },
  {
   "cell_type": "code",
   "execution_count": 26,
   "metadata": {},
   "outputs": [
    {
     "data": {
      "text/plain": [
       "1    16518\n",
       "0     9590\n",
       "Name: label, dtype: int64"
      ]
     },
     "execution_count": 26,
     "metadata": {},
     "output_type": "execute_result"
    }
   ],
   "source": [
    "df['label'].value_counts()"
   ]
  },
  {
   "cell_type": "code",
   "execution_count": 27,
   "metadata": {},
   "outputs": [],
   "source": [
    "# Extract AlphaCapitalization Mask. \"A1bb+3\" -> \"101100\"\n",
    "\n",
    "def alpha_mask(s):\n",
    "    l = []\n",
    "    for c in s:\n",
    "        l.append(int(c.isalpha()))\n",
    "    return l"
   ]
  },
  {
   "cell_type": "code",
   "execution_count": 28,
   "metadata": {},
   "outputs": [],
   "source": [
    "# Extract UpperCase Mask. \"A1bb+3CC\" -> \"11001111\"\n",
    "\n",
    "def uppercase_mask(s):\n",
    "    l = []\n",
    "    for c in s:\n",
    "        l.append(int(c.upper()==c))\n",
    "    return l"
   ]
  },
  {
   "cell_type": "code",
   "execution_count": 29,
   "metadata": {},
   "outputs": [],
   "source": [
    "# Extract character sequence, masks and macro parameters from string.\n",
    "\n",
    "def feature_extractor(pandas_series):\n",
    "    text = pandas_series.transform(lambda x: preprocess(x))\n",
    "    upper_case =  text.transform(lambda x: uppercase_mask(x))\n",
    "    alpha = text.transform(lambda x: alpha_mask(x))\n",
    "    text = text.transform(lambda x: ' '.join([c for c in x.lower()]))\n",
    "    uniq_chars = text.transform(lambda x: len(set([c for c in x])))\n",
    "    length = text.transform(lambda x: len(x))\n",
    "    info = uniq_chars.transform(lambda x: np.log(x+1))*length\n",
    "    return pd.DataFrame(zip(pandas_series, text, upper_case, alpha, uniq_chars, length, info), \n",
    "                        columns=['original','text','upper_mask','alpha_mask','unique','len','information'])"
   ]
  },
  {
   "cell_type": "code",
   "execution_count": 30,
   "metadata": {},
   "outputs": [],
   "source": [
    "# Prepare text to feed into the model for predction.\n",
    "# Tokenize, get masks, pad sequences\n",
    "\n",
    "def preprocess_text(series, tokenizer, max_seq_len):\n",
    "    X = feature_extractor(series)\n",
    "    seq = X['text']\n",
    "    encoded_seq = tokenizer.texts_to_sequences(seq)\n",
    "    padded_seq = pad_sequences(encoded_seq, maxlen = max_seq_len)\n",
    "    uppercase_seq = np.array(X['upper_mask'])\n",
    "    padded_uppercase_seq = pad_sequences(uppercase_seq, maxlen = max_seq_len)\n",
    "    alpha_seq = np.array(X['alpha_mask'])\n",
    "    padded_alpha_seq = pad_sequences(alpha_seq, maxlen = max_seq_len)\n",
    "    macro_features = X[['unique','len','information']].values\n",
    "    return (padded_seq, padded_uppercase_seq, padded_alpha_seq, macro_features)"
   ]
  },
  {
   "cell_type": "code",
   "execution_count": 31,
   "metadata": {},
   "outputs": [
    {
     "name": "stdout",
     "output_type": "stream",
     "text": [
      "[16/02/2024 20:01:17]Tokenizing. Preprocessing.\n"
     ]
    }
   ],
   "source": [
    "# Generate tokenizer for sample data\n",
    "\n",
    "print(timestamp_string()+'Tokenizing. Preprocessing.')\n",
    "seq = df['text']\n",
    "label = df['label']\n",
    "\n",
    "tokenizer = Tokenizer()\n",
    "tokenizer.fit_on_texts(seq)\n"
   ]
  },
  {
   "cell_type": "code",
   "execution_count": 32,
   "metadata": {},
   "outputs": [
    {
     "name": "stdout",
     "output_type": "stream",
     "text": [
      "[16/02/2024 20:01:27]Done.\n"
     ]
    }
   ],
   "source": [
    "# Pad character sequence, alpha mask and uppercase mask. Prepare macrofeatures.\n",
    "\n",
    "X = preprocess_text(df['text'], tokenizer, 256)\n",
    "vocab_size = len(tokenizer.word_index)+1\n",
    "padded_seq = X[0]\n",
    "padded_uppercase_seq = X[1]\n",
    "padded_alpha_seq = X[2]\n",
    "macro_features = X[3]\n",
    "\n",
    "print(timestamp_string()+'Done.')"
   ]
  },
  {
   "cell_type": "code",
   "execution_count": 33,
   "metadata": {},
   "outputs": [
    {
     "name": "stdout",
     "output_type": "stream",
     "text": [
      "[16/02/2024 20:01:45]Training.\n"
     ]
    }
   ],
   "source": [
    "print(timestamp_string()+'Training.')\n",
    "\n",
    "# Build a keras model. The model has 4 inputs.\n",
    "# S - character sequence (case insensitive)\n",
    "# U - uppercase mask\n",
    "# A - alpha mask\n",
    "# M - macro parameters: number of unique characters, length and information.\n",
    "\n",
    "inputS = keras.Input(shape = (256, ))\n",
    "inputU = keras.Input(shape = (256, ))\n",
    "inputA = keras.Input(shape = (256, ))\n",
    "inputM = keras.Input(shape = (3, ))\n",
    "\n",
    "# Lowercase character sequence\n",
    "s = layers.Embedding(input_dim = vocab_size, output_dim=64, input_length = max_seq_len)(inputS)\n",
    "s = layers.LSTM(64, activation = 'tanh')(s)\n",
    "s = layers.Dense(16, activation = 'relu')(s)\n",
    "s = keras.Model(inputs=inputS, outputs=s)\n",
    "\n",
    "# Uppercase sequence\n",
    "u = layers.Embedding(input_dim = 3, output_dim=16, input_length = max_seq_len)(inputU)\n",
    "u = layers.LSTM(16, activation = 'tanh')(u)\n",
    "u = layers.Dense(8, activation = 'relu')(u)\n",
    "u = keras.Model(inputs=inputU, outputs=u)\n",
    "\n",
    "# Alphanumeric sequence\n",
    "a = layers.Embedding(input_dim = 3, output_dim=16, input_length = max_seq_len)(inputA)\n",
    "a = layers.LSTM(16, activation = 'tanh')(a)\n",
    "a = layers.Dense(8, activation = 'relu')(a)\n",
    "a = keras.Model(inputs=inputA, outputs=a)\n",
    "\n",
    "# Macro features\n",
    "m = layers.Dense(8, activation = 'relu')(inputM)\n",
    "m = layers.Dense(4, activation = 'relu')(m)\n",
    "m = keras.Model(inputs=inputM, outputs = m)\n",
    "\n",
    "combined = keras.layers.concatenate([s.output, u.output, a.output, m.output])\n",
    "\n",
    "z = layers.Dense(16, activation=\"sigmoid\")(combined)\n",
    "z = layers.Dense(4, activation=\"sigmoid\")(z)\n",
    "z = layers.Dense(1, activation=\"sigmoid\")(z)\n",
    "\n",
    "model = keras.Model(inputs=[s.input, u.input, a.input, m.input], outputs=z)\n",
    "\n",
    "model.compile(optimizer = 'adam', loss='binary_crossentropy', metrics = ['accuracy'])\n",
    "\n",
    "#model.summary()"
   ]
  },
  {
   "cell_type": "code",
   "execution_count": 34,
   "metadata": {},
   "outputs": [],
   "source": [
    "# split into testing and training sets\n",
    "\n",
    "from sklearn.model_selection import train_test_split\n",
    "X_train, X_test, XU_train , XU_test, XA_train, XA_test, XM_train, XM_test, y_train, y_test = train_test_split(padded_seq, padded_uppercase_seq, padded_alpha_seq, macro_features, label, test_size = 0.33)"
   ]
  },
  {
   "cell_type": "code",
   "execution_count": 36,
   "metadata": {},
   "outputs": [
    {
     "name": "stdout",
     "output_type": "stream",
     "text": [
      "Epoch 1/10\n",
      "547/547 [==============================] - 60s 110ms/step - loss: 0.1821 - accuracy: 0.9392 - val_loss: 0.2578 - val_accuracy: 0.9106\n",
      "Epoch 2/10\n",
      "547/547 [==============================] - 59s 108ms/step - loss: 0.1978 - accuracy: 0.9303 - val_loss: 0.1352 - val_accuracy: 0.9595\n",
      "Epoch 3/10\n",
      "547/547 [==============================] - 58s 106ms/step - loss: 0.1142 - accuracy: 0.9646 - val_loss: 0.1088 - val_accuracy: 0.9656\n",
      "Epoch 4/10\n",
      "547/547 [==============================] - 60s 109ms/step - loss: 0.0924 - accuracy: 0.9723 - val_loss: 0.1094 - val_accuracy: 0.9647\n",
      "Epoch 5/10\n",
      "547/547 [==============================] - 57s 105ms/step - loss: 0.0818 - accuracy: 0.9753 - val_loss: 0.0869 - val_accuracy: 0.9748\n",
      "Epoch 6/10\n",
      "547/547 [==============================] - 59s 109ms/step - loss: 0.0738 - accuracy: 0.9779 - val_loss: 0.0875 - val_accuracy: 0.9753\n",
      "Epoch 7/10\n",
      "547/547 [==============================] - 59s 108ms/step - loss: 0.0696 - accuracy: 0.9788 - val_loss: 0.0776 - val_accuracy: 0.9781\n",
      "Epoch 8/10\n",
      "547/547 [==============================] - 58s 106ms/step - loss: 0.0630 - accuracy: 0.9815 - val_loss: 0.0779 - val_accuracy: 0.9763\n",
      "Epoch 9/10\n",
      "547/547 [==============================] - 57s 104ms/step - loss: 0.0615 - accuracy: 0.9807 - val_loss: 0.0792 - val_accuracy: 0.9738\n",
      "Epoch 10/10\n",
      "547/547 [==============================] - 58s 106ms/step - loss: 0.0567 - accuracy: 0.9821 - val_loss: 0.0724 - val_accuracy: 0.9760\n"
     ]
    }
   ],
   "source": [
    "history = model.fit([X_train, XU_train, XA_train, XM_train], y_train, \n",
    "          validation_data = ([X_test, XU_test, XA_test, XM_test], y_test), epochs = 10)"
   ]
  },
  {
   "cell_type": "code",
   "execution_count": 37,
   "metadata": {},
   "outputs": [],
   "source": [
    "import matplotlib.pyplot as plt"
   ]
  },
  {
   "cell_type": "code",
   "execution_count": 40,
   "metadata": {},
   "outputs": [
    {
     "data": {
      "text/plain": [
       "<matplotlib.legend.Legend at 0x7f5d6065fc10>"
      ]
     },
     "execution_count": 40,
     "metadata": {},
     "output_type": "execute_result"
    },
    {
     "data": {
      "image/png": "[encoded data removed]",
      "text/plain": [
       "<Figure size 432x288 with 1 Axes>"
      ]
     },
     "metadata": {
      "needs_background": "light"
     },
     "output_type": "display_data"
    }
   ],
   "source": [
    "plt.plot(history.history['accuracy'])\n",
    "plt.plot(history.history['val_accuracy'])\n",
    "plt.title('model accuracy')\n",
    "plt.ylabel('accuracy')\n",
    "plt.xlabel('epoch')\n",
    "plt.legend(['train', 'test'], loc='upper left')"
   ]
  },
  {
   "cell_type": "code",
   "execution_count": null,
   "metadata": {},
   "outputs": [],
   "source": [
    "# at 5 epochos it yields ~98 accuracy"
   ]
  },
  {
   "cell_type": "code",
   "execution_count": 48,
   "metadata": {},
   "outputs": [],
   "source": [
    "y_test_pred_prob = model.predict([X_test, XU_test, XA_test, XM_test]) # get probablities"
   ]
  },
  {
   "cell_type": "code",
   "execution_count": 44,
   "metadata": {},
   "outputs": [],
   "source": [
    "from sklearn.metrics import confusion_matrix"
   ]
  },
  {
   "cell_type": "code",
   "execution_count": 49,
   "metadata": {},
   "outputs": [],
   "source": [
    "y_pred = y_test_pred_prob > sus_thresh"
   ]
  },
  {
   "cell_type": "code",
   "execution_count": 50,
   "metadata": {},
   "outputs": [],
   "source": [
    "CM = confusion_matrix(y_test, y_pred)"
   ]
  },
  {
   "cell_type": "code",
   "execution_count": 51,
   "metadata": {},
   "outputs": [
    {
     "data": {
      "text/plain": [
       "array([[3059,  124],\n",
       "       [  83, 5350]])"
      ]
     },
     "execution_count": 51,
     "metadata": {},
     "output_type": "execute_result"
    }
   ],
   "source": [
    "CM"
   ]
  },
  {
   "cell_type": "code",
   "execution_count": 52,
   "metadata": {},
   "outputs": [],
   "source": [
    "import seaborn as sns"
   ]
  },
  {
   "cell_type": "code",
   "execution_count": 55,
   "metadata": {},
   "outputs": [
    {
     "data": {
      "text/plain": [
       "<matplotlib.axes._subplots.AxesSubplot at 0x7f5c781dd8e0>"
      ]
     },
     "execution_count": 55,
     "metadata": {},
     "output_type": "execute_result"
    },
    {
     "data": {
      "image/png": "[encoded data removed]",
      "text/plain": [
       "<Figure size 432x288 with 2 Axes>"
      ]
     },
     "metadata": {
      "needs_background": "light"
     },
     "output_type": "display_data"
    }
   ],
   "source": [
    "sns.heatmap(CM, annot=True, fmt='d')"
   ]
  }
 ],
 "metadata": {
  "kernelspec": {
   "display_name": "Python 3",
   "language": "python",
   "name": "python3"
  },
  "language_info": {
   "codemirror_mode": {
    "name": "ipython",
    "version": 3
   },
   "file_extension": ".py",
   "mimetype": "text/x-python",
   "name": "python",
   "nbconvert_exporter": "python",
   "pygments_lexer": "ipython3",
   "version": "3.8.3"
  }
 },
 "nbformat": 4,
 "nbformat_minor": 4
}
